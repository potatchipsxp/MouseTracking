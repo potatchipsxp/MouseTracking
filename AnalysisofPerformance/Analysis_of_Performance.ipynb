{
 "cells": [
  {
   "cell_type": "markdown",
   "metadata": {
    "id": "rWv5XgOYcASc"
   },
   "source": [
    "# How to use this Script\n",
    "This doc goes through the analysis in Excelsior Paper. We are analyzing cursor dyanmics as a time sereis and use multiple different methods to explore the potential of this data. below are the initial instruction and further instruction for each stage will be presented at that stage. GLHF.\n",
    "\n",
    "First we have to install and import the required libraries in the lext two cells. Next we prep import and prep the data converting some string columns to int and select our time series feature of interest. The defualt is set to accelerations though the other options are listed in the appropriate cell. From there any individual analysis can be run seperately and will end with a scatter plot of the results. Here we use primarily visual analysis of the results because our varying methods sometimes require varying methods for measuring accuracy that are not directly comparable but the visua interpretationsare still comparable."
   ]
  },
  {
   "cell_type": "markdown",
   "metadata": {
    "id": "Tiiw-1EtfXAx"
   },
   "source": [
    "## Import libraries"
   ]
  },
  {
   "cell_type": "code",
   "execution_count": null,
   "metadata": {
    "id": "C-eevoZSr_Op"
   },
   "outputs": [],
   "source": [
    "import numpy as np\n",
    "import pandas as pd\n",
    "from scipy import stats\n",
    "from matplotlib import rcParams\n",
    "rcParams['font.family'] = 'sans-serif'\n",
    "rcParams['font.sans-serif'] = ['Tahoma']\n",
    "import matplotlib.pyplot as plt\n",
    "import matplotlib.font_manager\n",
    "# import nolds\n",
    "import seaborn as sns\n",
    "import statsmodels.api as sm\n",
    "import scipy"
   ]
  },
  {
   "cell_type": "code",
   "execution_count": null,
   "metadata": {
    "colab": {
     "base_uri": "https://localhost:8080/",
     "height": 50
    },
    "id": "dpdJf8eCYGgI",
    "outputId": "d3b2387a-81d1-4e76-8bff-1fab02918294"
   },
   "outputs": [
    {
     "data": {
      "text/plain": [
       "<Figure size 576x1152 with 0 Axes>"
      ]
     },
     "execution_count": 2,
     "metadata": {
      "tags": []
     },
     "output_type": "execute_result"
    },
    {
     "data": {
      "text/plain": [
       "<Figure size 576x1152 with 0 Axes>"
      ]
     },
     "metadata": {
      "tags": []
     },
     "output_type": "display_data"
    }
   ],
   "source": [
    "plt.figure(figsize=(8,16))"
   ]
  },
  {
   "cell_type": "markdown",
   "metadata": {
    "id": "zR6LJsZA-Q0r"
   },
   "source": [
    "### Import and Prep Data"
   ]
  },
  {
   "cell_type": "code",
   "execution_count": null,
   "metadata": {
    "id": "I0CHTY4Qs-9c"
   },
   "outputs": [],
   "source": [
    "# Import the data\n",
    "df_Feb = pd.read_pickle(\"https://mymousetrackingdatabucket.s3-us-west-1.amazonaws.com/data/game_data_300_feb_O.p\")\n",
    "\n",
    "df_Jan = pd.read_pickle(\"https://mymousetrackingdatabucket.s3-us-west-1.amazonaws.com/data/game_data_300_jan_O.p\")"
   ]
  },
  {
   "cell_type": "code",
   "execution_count": null,
   "metadata": {
    "colab": {
     "base_uri": "https://localhost:8080/"
    },
    "id": "KqcYWijWZpDw",
    "outputId": "6e9900bc-09fc-4c14-891c-fd45813f217e"
   },
   "outputs": [
    {
     "data": {
      "text/plain": [
       "Index(['ID', 'device', 'accratio', 'Xcord', 'Ycord', 'Timemousecords',\n",
       "       'timestimsarrive', 'difficultylevel', 'stimspeed', 'stimsclicked',\n",
       "       'stimsshown', 'mouseCordsYClicks', 'mouseCordsXClicks', 'clicktimes',\n",
       "       'Q1', 'Q2', 'Q3', 'Age', 'CatchQ1', 'CatchQ2', 'Gender', 'NumPoints',\n",
       "       'Timemousecordso', 'VG_growing', 'VG_now', 'Xcordo', 'Ycordo',\n",
       "       'totalNumPoints', 'velocities', 'SmVelocities', 'accelerations',\n",
       "       'jerks', 'paths', 'deviations', 'pathlen', 'BinaryEng',\n",
       "       'mean_accelerations', 'var_accelerations', 'mean_velocities',\n",
       "       'var_velocities', 'mean_sm_velocities', 'var_sm_velocities',\n",
       "       'mean_jerks', 'var_jerks', 'mean_deviations', 'var_deviations',\n",
       "       'mean_path_length', 'var_path_length'],\n",
       "      dtype='object')"
      ]
     },
     "execution_count": 4,
     "metadata": {
      "tags": []
     },
     "output_type": "execute_result"
    }
   ],
   "source": [
    "# To give a sense of what we have available\n",
    "# Many of these cells have whole time series in them.\n",
    "# Rows are participants, columns are these features (raw data is not here)\n",
    "df_Feb.columns"
   ]
  },
  {
   "cell_type": "code",
   "execution_count": null,
   "metadata": {
    "id": "x2BOqRsHsiaF"
   },
   "outputs": [],
   "source": [
    "# Pickle format converts numeric to str so we convert the necessary variables back to numeric\n",
    "df_Feb['Q1int']         = pd.to_numeric(df_Feb.Q1) # Reported Engagement\n",
    "df_Feb['Q2int']         = pd.to_numeric(df_Feb.Q2) # Reported Difficulty\n",
    "df_Feb['Q3int']         = pd.to_numeric(df_Feb.Q3) # Reported Fun\n",
    "df_Feb['dlevel']        = pd.to_numeric(df_Feb.difficultylevel) # Actual difficulty\n",
    "df_Feb['acr']           = pd.to_numeric(df_Feb.accratio) # Actual performance\n",
    "df_Feb['stimspeed_num'] = pd.to_numeric(df_Feb.stimspeed) # Numeric stimulus speed\n",
    "df_Feb['Age']           = pd.to_numeric(df_Feb.Age)\n",
    "\n",
    "df_Jan['Q1int']         = pd.to_numeric(df_Jan.Q1) # Reported Engagement\n",
    "df_Jan['Q2int']         = pd.to_numeric(df_Jan.Q2) # Reported Difficulty\n",
    "df_Jan['Q3int']         = pd.to_numeric(df_Jan.Q3) # Reported Fun\n",
    "df_Jan['dlevel']        = pd.to_numeric(df_Jan.difficultylevel) # Actual difficulty\n",
    "df_Jan['acr']           = pd.to_numeric(df_Jan.accratio) # Actual performance\n",
    "df_Jan['stimspeed_num'] = pd.to_numeric(df_Jan.stimspeed) # Numeric stimulus speed\n",
    "df_Jan['Age']           = pd.to_numeric(df_Jan.Age)"
   ]
  },
  {
   "cell_type": "markdown",
   "metadata": {
    "id": "5KDvotIam_iv"
   },
   "source": [
    "# Interpolation"
   ]
  },
  {
   "cell_type": "code",
   "execution_count": null,
   "metadata": {
    "id": "N90mLRi30qlc"
   },
   "outputs": [],
   "source": [
    "#get the length of longest timeseries\n",
    "longestT = max(max(df_Feb.apply(lambda row: pd.to_datetime(row['Timemousecordso'][-1], unit='ms') - pd.to_datetime(row['Timemousecordso'][0], unit='ms'), axis=1)), max(df_Jan.apply(lambda row: pd.to_datetime(row['Timemousecordso'][-1], unit='ms') - pd.to_datetime(row['Timemousecordso'][0], unit='ms'), axis=1)))"
   ]
  },
  {
   "cell_type": "code",
   "execution_count": null,
   "metadata": {
    "id": "eDA71lLEnB-8"
   },
   "outputs": [],
   "source": [
    "def myInterpFunc(Xcords, Ycords, times, desiredT):\n",
    "# def myInterpFunc(Xcords, Ycords, times):\n",
    "\n",
    "  tempdf = pd.DataFrame(np.asarray([Xcords, Ycords]).T,pd.to_datetime(times, unit='ms'),['Xcord', 'Ycord'])\n",
    "  tempdf = tempdf.reset_index().drop_duplicates(subset='index', keep='last').set_index('index').sort_index()\n",
    "  tempresampled = tempdf.resample(\"20L\").pad()\n",
    "  # tempresampled = tempresampled.resample(\"10L\").interpolate('time')\n",
    "  # tempresampled = tempdf.resample(\"10L\").interpolate(method='polynomial', order=2)\n",
    "\n",
    "  tempresampled.dropna(inplace=True)\n",
    "\n",
    "  # tempresampled=tempresampled.reindex(pd.date_range(start = tempresampled.index[0], end=(tempresampled.index[0] + desiredT),freq='20L'), method='nearest')\n",
    "\n",
    "  return [np.asarray(tempresampled.Xcord), np.asarray(tempresampled.Ycord), np.asarray(tempresampled.index)]"
   ]
  },
  {
   "cell_type": "code",
   "execution_count": null,
   "metadata": {
    "id": "ASGEUfmqm-Bo"
   },
   "outputs": [],
   "source": [
    "df_Jan[['iXcords','iYcords','itimes']] = df_Jan.apply(lambda row: myInterpFunc(row['Xcordo'],row['Ycordo'],row['Timemousecordso'], longestT), axis=1, result_type='expand')\n",
    "df_Feb[['iXcords','iYcords','itimes']] = df_Feb.apply(lambda row: myInterpFunc(row['Xcordo'],row['Ycordo'],row['Timemousecordso'], longestT), axis=1, result_type='expand')"
   ]
  },
  {
   "cell_type": "markdown",
   "metadata": {
    "id": "Nhksrg-CD3GS"
   },
   "source": [
    "# create Complex Cords "
   ]
  },
  {
   "cell_type": "code",
   "execution_count": null,
   "metadata": {
    "id": "CmalRrHAwlaW"
   },
   "outputs": [],
   "source": [
    "def CartesiantoComplexCords(Xs, Ys):\n",
    "  return np.asarray(Xs) + 1j*np.asarray(Ys)"
   ]
  },
  {
   "cell_type": "code",
   "execution_count": null,
   "metadata": {
    "id": "pvJ_gqc-D9G9"
   },
   "outputs": [],
   "source": [
    "df_Feb['Ccords'] = df_Feb.apply(lambda row: CartesiantoComplexCords(row['iXcords'],row['iYcords']), axis=1, result_type='reduce')\n",
    "df_Jan['Ccords'] = df_Jan.apply(lambda row: CartesiantoComplexCords(row['iXcords'],row['iYcords']), axis=1, result_type='reduce')"
   ]
  },
  {
   "cell_type": "code",
   "execution_count": null,
   "metadata": {
    "id": "mLBhTtUto_ov"
   },
   "outputs": [],
   "source": [
    "def getArcLen(Xs,Ys):\n",
    "  return np.sum(scipy.spatial.distance.cdist(np.column_stack((Xs,Ys))[:-1], np.column_stack((Xs,Ys))[1:]))"
   ]
  },
  {
   "cell_type": "code",
   "execution_count": null,
   "metadata": {
    "id": "_rRF69XXpzK-"
   },
   "outputs": [],
   "source": [
    "df_Feb['ArcLen'] = df_Feb.apply(lambda row: getArcLen(row['iXcords'],row['iYcords']), axis=1)\n",
    "df_Jan['ArcLen'] = df_Jan.apply(lambda row: getArcLen(row['iXcords'],row['iYcords']), axis=1)"
   ]
  },
  {
   "cell_type": "markdown",
   "metadata": {
    "id": "6skG8ZDWfdD9"
   },
   "source": [
    "## Select the feature for analysis"
   ]
  },
  {
   "cell_type": "code",
   "execution_count": null,
   "metadata": {
    "id": "Iq8TSym5BBlp"
   },
   "outputs": [],
   "source": [
    "#feature we will be trying to predict\n",
    "outcome = 'acr' #options are 'acr', 'Q1int', 'Q2int', 'Q3int', 'Age'"
   ]
  },
  {
   "cell_type": "code",
   "execution_count": null,
   "metadata": {
    "id": "ioAgcVXc-_rv"
   },
   "outputs": [],
   "source": [
    "#feature we will be analyzing\n",
    "feature = 'Ccords' #options are jerks, accelerations and velocities, Ccords\n",
    "#if uusing Ccords use cfft function"
   ]
  },
  {
   "cell_type": "markdown",
   "metadata": {
    "id": "kHWearRd-w8G"
   },
   "source": [
    "## Transform into Frequency Domain\n",
    "Necessary for powerlaw, SVD, and DFA analyses but can be ignored if not performing those analyses"
   ]
  },
  {
   "cell_type": "code",
   "execution_count": null,
   "metadata": {
    "id": "FBO3GQgwKUOs"
   },
   "outputs": [],
   "source": [
    "\n",
    "# Returns the FFT on one time series, i.e. one 1-dimensional array ordered by time.  \n",
    "# This can be x's, y's, velocities (based on Euclidean distance between 2d points), acceleratons jerks, etc.\n",
    "def get_rfft(timeseries, l):\n",
    "    timeseries = timeseries[:l]\n",
    "    ff = np.fft.rfft(timeseries)\n",
    "    \n",
    "    return ff    "
   ]
  },
  {
   "cell_type": "code",
   "execution_count": null,
   "metadata": {
    "id": "3xdFnd2EEOyD"
   },
   "outputs": [],
   "source": [
    "# Returns the FFT on one time series, i.e. one 1-dimensional array ordered by time.  \n",
    "# This can include our complex numbers of position data\n",
    "def get_fft(timeseries, l):\n",
    "    timeseries = timeseries[:l]\n",
    "    ff = np.fft.fft(timeseries)\n",
    "    \n",
    "    return ff[1:]   "
   ]
  },
  {
   "cell_type": "code",
   "execution_count": null,
   "metadata": {
    "id": "wk9mEfMa7HDs"
   },
   "outputs": [],
   "source": [
    "# Trim the \"feature\" time series to be same length and then use fft to create spectra for this feature\n",
    "minlength  = min(min(df_Feb.apply(lambda row: len(row[feature]), axis=1)), min(df_Jan.apply(lambda row: len(row[feature]), axis=1)))  # length of shortest time series"
   ]
  },
  {
   "cell_type": "code",
   "execution_count": null,
   "metadata": {
    "id": "cQmMy1yjwR9W"
   },
   "outputs": [],
   "source": [
    "df_Feb['Cffts'] = df_Feb.apply(lambda row: get_fft(row['Ccords'],minlength), axis=1, result_type='reduce')\n",
    "df_Jan['Cffts'] = df_Jan.apply(lambda row: get_fft(row['Ccords'],minlength), axis=1, result_type='reduce')"
   ]
  },
  {
   "cell_type": "markdown",
   "metadata": {
    "id": "cCmkXDLhf0i8"
   },
   "source": [
    "# **Analyses**"
   ]
  },
  {
   "cell_type": "markdown",
   "metadata": {
    "id": "BJ7KxE-j_usZ"
   },
   "source": [
    "## SVD"
   ]
  },
  {
   "cell_type": "code",
   "execution_count": null,
   "metadata": {
    "id": "Skd8co3i_0dS"
   },
   "outputs": [],
   "source": [
    "#This is set up for accuracy. Before running another variable you would have to determine appropriate splits (maybe I should add cell for doing that?)\n",
    "\n",
    "# Split into groups high and low accuracy groups for each sample\n",
    "JHA = df_Jan.loc[df_Jan['acr']>.505] #High accuracy group from Jan sample\n",
    "JLA = df_Jan.loc[df_Jan['acr']<.12] #Low accuracy group from Jan sample\n",
    "FHA = df_Feb.loc[df_Feb['acr']>.505] #High accuracy group from Feb sample\n",
    "FLA = df_Feb.loc[df_Feb['acr']<.12] #Low accuracy group from Feb sample\n",
    "    \n",
    "# Stack the data to convert to matrix form for use in svd\n",
    "JHAD = np.stack(np.array(JHA.Cffts.values)) # January high accuracy data\n",
    "JLA2D = np.stack(np.array(JLA.Cffts.values))\n",
    "FHAD = np.stack(np.array(FHA.Cffts.values))\n",
    "FLAD = np.stack(np.array(FLA.Cffts.values))"
   ]
  },
  {
   "cell_type": "code",
   "execution_count": null,
   "metadata": {
    "id": "62dG5x92_0ho"
   },
   "outputs": [],
   "source": [
    "# Compute SVD for High accuracy group from January sample\n",
    "U, σ, Vstar = np.linalg.svd( JHAD.T )"
   ]
  },
  {
   "cell_type": "code",
   "execution_count": null,
   "metadata": {
    "colab": {
     "base_uri": "https://localhost:8080/",
     "height": 296
    },
    "id": "-_n_wr9MHY54",
    "outputId": "81a4a60d-0635-4a0d-b908-4ff56a84c2e5"
   },
   "outputs": [
    {
     "data": {
      "text/plain": [
       "Text(0, 0.5, 'Cumulative Variance')"
      ]
     },
     "execution_count": 45,
     "metadata": {
      "tags": []
     },
     "output_type": "execute_result"
    },
    {
     "data": {
      "image/png": "[encoded data removed]",
      "text/plain": [
       "<Figure size 432x288 with 1 Axes>"
      ]
     },
     "metadata": {
      "needs_background": "light",
      "tags": []
     },
     "output_type": "display_data"
    }
   ],
   "source": [
    "E = σ ** 2 / np.sum( σ ** 2 )\n",
    "# plt.scatter(np.E)),E);\n",
    "plt.scatter(np.arange(len(E)),np.cumsum(E));\n",
    "plt.xlabel(\"Component #\")\n",
    "plt.ylabel(\"Cumulative Variance\")\n",
    "# plt.title(\"Cumulative Component Plot\")\n",
    "\n",
    "# A cumulative energy plot which show us  how much each principle component \n",
    "# is adding to the amount data explained.\n",
    "\n",
    "# Here 30% of the data is explained by the first component, and 50% by first three\n",
    "# Suggest the first two components are important in capturing the general structure\n",
    "# The rest capture something closer to individual people"
   ]
  },
  {
   "cell_type": "code",
   "execution_count": null,
   "metadata": {
    "id": "i8u6YtTmHi-k"
   },
   "outputs": [],
   "source": [
    "# Here we determine k which is the number of principle component to use for reconstruction. \n",
    "# If we set ksize = 1 we would just use all of the principle components\n",
    "\n",
    "ksize = .5 \n",
    "k = np.min( np.where( np.cumsum(E) >= ksize ) )\n",
    "\n",
    "# One could alternatively hard set k to a partiuclat interger amount of components to use. \n",
    "# For example the first two component contribute the most by far so we could set k to 2\n",
    "# k = 2\n",
    "print(k)"
   ]
  },
  {
   "cell_type": "code",
   "execution_count": null,
   "metadata": {
    "colab": {
     "base_uri": "https://localhost:8080/",
     "height": 296
    },
    "id": "wftAg6dl_0pK",
    "outputId": "5bd006b4-51ce-4544-dc93-b330a5205351"
   },
   "outputs": [
    {
     "data": {
      "text/plain": [
       "<matplotlib.legend.Legend at 0x7ff707a79cd0>"
      ]
     },
     "execution_count": 32,
     "metadata": {
      "tags": []
     },
     "output_type": "execute_result"
    },
    {
     "data": {
      "image/png": "[encoded data removed]",
      "text/plain": [
       "<Figure size 432x288 with 1 Axes>"
      ]
     },
     "metadata": {
      "needs_background": "light",
      "tags": []
     },
     "output_type": "display_data"
    }
   ],
   "source": [
    "# Compute reconstruction of the febuary high and low accuracy groups data in \n",
    "# the January high accuracy group's space\n",
    "\n",
    "group  = FHAD\n",
    "group2 = FLAD\n",
    "fitsT = U[:,:k] @ (np.conj( U[:,:k] ).T @ group.T)\n",
    "fitsT2 = U[:,:k] @ (np.conj( U[:,:k] ).T @ group2.T)\n",
    "\n",
    "ηT = np.full( (1, group.shape[0]), 'nan', dtype = 'float' )\n",
    "for i in range(0,group.shape[0]):\n",
    "    ηT[0,i] = np.linalg.norm( fitsT[:,i] ) ** 2 / np.linalg.norm( group.T[:,i] ) ** 2\n",
    "\n",
    "ηT2 = np.full( (1, group2.shape[0]), 'nan', dtype = 'float' )\n",
    "for i in range(0,group2.shape[0]):\n",
    "    ηT2[0,i] = np.linalg.norm( fitsT2[:,i] ) ** 2 / np.linalg.norm( group2.T[:,i] ) ** 2\n",
    "\n",
    "plt.scatter(np.arange(ηT.shape[1]),ηT, label = \"Accurate\");\n",
    "plt.scatter(np.arange(ηT2.shape[1]),ηT2, label = \"Inaccurate\");\n",
    "plt.xlabel(\"Participant #\")\n",
    "plt.ylabel(\"Fit to Sample 1 Accuracy Space\")\n",
    "plt.legend()\n",
    "\n",
    "# Here the value on the Y axis is the amount of the data that is able to be \n",
    "# reconstructed from the january groups principle components\n",
    "\n",
    "# The result we've had from the start; shows we could build a good classifer\n",
    "# stats.ttest_ind(ηT,ηT2,equal_var=False)"
   ]
  },
  {
   "cell_type": "code",
   "execution_count": null,
   "metadata": {
    "colab": {
     "base_uri": "https://localhost:8080/",
     "height": 296
    },
    "id": "A6tk9nhx0Kg9",
    "outputId": "e379bd7b-baa3-45a8-c8c9-efdb631edb19"
   },
   "outputs": [
    {
     "data": {
      "text/plain": [
       "Text(0.5, 0, 'Fit to Jan. accuracy space')"
      ]
     },
     "execution_count": 34,
     "metadata": {
      "tags": []
     },
     "output_type": "execute_result"
    },
    {
     "data": {
      "image/png": "[encoded data removed]",
      "text/plain": [
       "<Figure size 432x288 with 1 Axes>"
      ]
     },
     "metadata": {
      "needs_background": "light",
      "tags": []
     },
     "output_type": "display_data"
    }
   ],
   "source": [
    "# Compute reconstruction of full febuary sample in January's accuracy player space\n",
    "\n",
    "All = np.stack(np.array(df_Feb.Cffts.values))\n",
    "FitsAll = U[:,:k] @ (np.conj( U[:,:k] ).T @ All.T)\n",
    "ηAll = np.full( (1, All.shape[0]), 'nan', dtype = 'float' )\n",
    "for i in range(0,All.shape[0]):\n",
    "    ηAll[0,i] = np.linalg.norm( FitsAll[:,i] ) ** 2 / np.linalg.norm( All.T[:,i] ) ** 2\n",
    "\n",
    "df_Feb['Etas'] = ηAll.T\n",
    "\n",
    "sns.lmplot(x='acr',y='Etas', data=df_Feb,fit_reg=True, aspect=1.5)\n",
    "plt.xlabel(\"Participant Performance\")\n",
    "plt.ylabel(\"Participant fit to Jan High Performer Space\")\n",
    "plt.title(\"Similarity to Higher Performers Regressed on Actual Performance\")\n",
    "\n",
    "slope, intercept, r_value, pv, se = stats.linregress(df_Feb.acr.values,ηAll)\n",
    "print(pv)\n",
    "#in this plot accuracy of participant is on the X axis and the Y axis is the participants fit to the highly accurate players from the january group\n",
    "# May suggest three types of player: low, middling, and high accuracy\n"
   ]
  },
  {
   "cell_type": "code",
   "execution_count": null,
   "metadata": {
    "colab": {
     "base_uri": "https://localhost:8080/"
    },
    "id": "bm7oBEhrMJuW",
    "outputId": "26448656-ad33-49cb-ffa1-0e1132047f04"
   },
   "outputs": [
    {
     "data": {
      "text/plain": [
       "0.6067966604344319"
      ]
     },
     "execution_count": 28,
     "metadata": {
      "tags": []
     },
     "output_type": "execute_result"
    }
   ],
   "source": [
    "r_value * r_value"
   ]
  },
  {
   "cell_type": "markdown",
   "metadata": {},
   "source": [
    "## Look at loglog structure"
   ]
  },
  {
   "cell_type": "code",
   "execution_count": null,
   "metadata": {
    "colab": {
     "base_uri": "https://localhost:8080/",
     "height": 544
    },
    "id": "q7Q7xezrBSXV",
    "outputId": "48166167-04d7-484d-b431-13fe0857e22a"
   },
   "outputs": [
    {
     "data": {
      "image/png": "[encoded data removed]",
      "text/plain": [
       "<Figure size 1152x648 with 8 Axes>"
      ]
     },
     "metadata": {
      "needs_background": "light",
      "tags": []
     },
     "output_type": "display_data"
    }
   ],
   "source": [
    "plt.rcParams['figure.figsize'] = [16,9]\n",
    "\n",
    "for i in range (0,8):\n",
    "  plt.subplot(2,4,i+1)\n",
    "  plt.loglog(np.abs(U[:1963,i]**2),'.')"
   ]
  },
  {
   "cell_type": "code",
   "execution_count": null,
   "metadata": {
    "colab": {
     "base_uri": "https://localhost:8080/",
     "height": 300
    },
    "id": "oUKBTsr6Lggn",
    "outputId": "c0c54bff-126e-45d4-e6e4-f8edb0d9bf3c"
   },
   "outputs": [
    {
     "data": {
      "text/plain": [
       "Text(0.5, 0, 'log of Power')"
      ]
     },
     "execution_count": 36,
     "metadata": {
      "tags": []
     },
     "output_type": "execute_result"
    },
    {
     "data": {
      "image/png": "[encoded data removed]",
      "text/plain": [
       "<Figure size 432x288 with 1 Axes>"
      ]
     },
     "metadata": {
      "needs_background": "light",
      "tags": []
     },
     "output_type": "display_data"
    }
   ],
   "source": [
    "plt.loglog(abs(U[:1963,0]**2),'.')\n",
    "plt.ylabel(\"log of Frequency\")\n",
    "plt.xlabel(\"log of Power\")\n",
    "# plt.title(\"log-log Plot of Most Important Component\")\n"
   ]
  },
  {
   "cell_type": "markdown",
   "metadata": {},
   "source": [
    "## DFA"
   ]
  },
  {
   "cell_type": "code",
   "execution_count": null,
   "metadata": {
    "id": "Bijsr4E0APA2"
   },
   "outputs": [],
   "source": [
    "def getWalk(values):\n",
    "  wValues = np.cumsum(values - np.mean(values))\n",
    "  return wValues"
   ]
  },
  {
   "cell_type": "code",
   "execution_count": null,
   "metadata": {
    "id": "ivSTkxyVbcdP"
   },
   "outputs": [],
   "source": [
    "def getScales(minN, N, winRatio=1.2):\n",
    "\n",
    "  # maxW = int(np.floor(N/minN))\n",
    "  maxW = 0.1 * N\n",
    "  numscales = int(np.floor(np.log(1.0 * maxW / minN) / np.log(winRatio) + 1))\n",
    "\n",
    "  scales = []\n",
    "\n",
    "  for i in range(1,numscales,1):\n",
    "    scales.append(int(np.floor(minN * (winRatio**i))))\n",
    "  \n",
    "  return(scales)\n"
   ]
  },
  {
   "cell_type": "code",
   "execution_count": null,
   "metadata": {
    "id": "FLyYNenn9xQ_"
   },
   "outputs": [],
   "source": [
    "def getResiduals(times, values):\n",
    "  A = np.vstack([times, np.ones(len(times))]).T\n",
    "  line, res, rank, s = np.linalg.lstsq(A, values)\n",
    "  return values - (A @ line)"
   ]
  },
  {
   "cell_type": "code",
   "execution_count": null,
   "metadata": {
    "id": "UZ7stw-XZIhr"
   },
   "outputs": [],
   "source": [
    "def getWindows(series,windowsize,overlap):\n",
    "\n",
    "  # myindex = np.arange(0,((len(series)-windowsize)/windowsize*overlap + 1) * windowsize,1)\n",
    "\n",
    "  # c_len_index = np.floor((len(series)-windowsize) / (windowsize*overlap))*windowsize + windowsize\n",
    "\n",
    "  # myindex = np.hstack([myindex,np.arange(len(myindex),c_len_index,1)]) \n",
    "\n",
    "  myindex = np.arange(0,(np.floor((len(series)-windowsize) / np.floor(windowsize*overlap))*windowsize + windowsize), 1)\n",
    "\n",
    "  numwindows = int(len(myindex)/windowsize)\n",
    "\n",
    "  myindex = myindex.reshape(numwindows,windowsize).astype(int)\n",
    "\n",
    "  adjusterarray = np.asarray(np.ones((windowsize,numwindows)) * np.arange(0,numwindows,1)).astype(int).T * int(windowsize - np.floor(windowsize*overlap))\n",
    "\n",
    "  myindex = myindex - adjusterarray\n",
    "  \n",
    "  return myindex"
   ]
  },
  {
   "cell_type": "code",
   "execution_count": null,
   "metadata": {
    "id": "xD9h9phaAQux"
   },
   "outputs": [],
   "source": [
    "def cDFA(values):\n",
    "  #convert to walk\n",
    "  wValues = getWalk(values)\n",
    "\n",
    "  #getScales args are mins scale, number of sampels, and option spacer \n",
    "  Scales = getScales(4, len(wValues))\n",
    "\n",
    "  #array to store fluctuation vlaues\n",
    "  Fs = []\n",
    "\n",
    "  for scale in Scales:\n",
    "    #for each scale we now need ot get the actual windowed time series\n",
    "    windows = getWindows(wValues, scale, .5)\n",
    "\n",
    "    #an object to store root mean square values\n",
    "    w_RMSE = []\n",
    "\n",
    "    x = np.arange(scale)\n",
    "\n",
    "    for i in range(0,len(windows)):\n",
    "\n",
    "      #get the residuals around a local trend for calculating\n",
    "      residuals = getResiduals(x,wValues[windows[i]])\n",
    "  \n",
    "      #get by just squaring the residuals, taking the mwan of that an then square rooting that\n",
    "      rmse = np.sqrt((np.conj(residuals).T @ residuals ) / len(residuals))\n",
    "      w_RMSE.append(rmse)\n",
    "\n",
    "    Fs.append(np.asarray(w_RMSE).mean())\n",
    "\n",
    "  logFs = np.log(Fs)\n",
    "  logScales = np.log(Scales)\n",
    "\n",
    "  #calulate hurst param by fitting line to logscaled Fs and log scaled scale sizes\n",
    "  H, res, rank, s = np.linalg.lstsq(np.vstack([logScales, np.ones(len(logScales))]).T, logFs)\n",
    "\n",
    "  return H[0] #, Fs, Scales, poly[0], np.polyfit(logScales, logFs, 1), "
   ]
  },
  {
   "cell_type": "code",
   "execution_count": null,
   "metadata": {
    "colab": {
     "base_uri": "https://localhost:8080/"
    },
    "id": "beNSPrejLAhl",
    "outputId": "f8d35c1b-5832-4d07-91b5-34ad83a588d6"
   },
   "outputs": [
    {
     "name": "stderr",
     "output_type": "stream",
     "text": [
      "/usr/local/lib/python3.7/dist-packages/ipykernel_launcher.py:3: FutureWarning: `rcond` parameter will change to the default of machine precision times ``max(M, N)`` where M and N are the input matrix dimensions.\n",
      "To use the future default and silence this warning we advise to pass `rcond=None`, to keep using the old, explicitly pass `rcond=-1`.\n",
      "  This is separate from the ipykernel package so we can avoid doing imports until\n",
      "/usr/local/lib/python3.7/dist-packages/ipykernel_launcher.py:35: FutureWarning: `rcond` parameter will change to the default of machine precision times ``max(M, N)`` where M and N are the input matrix dimensions.\n",
      "To use the future default and silence this warning we advise to pass `rcond=None`, to keep using the old, explicitly pass `rcond=-1`.\n"
     ]
    }
   ],
   "source": [
    "df_Feb['Hs'] = df_Feb.apply(lambda row: cDFA(row['Ccords']), axis=1, result_type='reduce')"
   ]
  },
  {
   "cell_type": "code",
   "execution_count": null,
   "metadata": {
    "id": "AtO1CQNCkPVX"
   },
   "outputs": [],
   "source": [
    "df_Feb['absHs'] = df_Feb.apply(lambda row: abs(row['Hs']), axis=1)"
   ]
  },
  {
   "cell_type": "code",
   "execution_count": null,
   "metadata": {
    "colab": {
     "base_uri": "https://localhost:8080/",
     "height": 400
    },
    "id": "5nrHY2q-LAh1",
    "outputId": "b528e658-ade2-40b2-b538-454d30d3dc2b"
   },
   "outputs": [
    {
     "name": "stdout",
     "output_type": "stream",
     "text": [
      "-0.7502726716938489 0.00015518900545460803\n"
     ]
    },
    {
     "data": {
      "image/png": "[encoded data removed]",
      "text/plain": [
       "<Figure size 540x360 with 1 Axes>"
      ]
     },
     "metadata": {
      "needs_background": "light",
      "tags": []
     },
     "output_type": "display_data"
    }
   ],
   "source": [
    "sns.lmplot(x='acr',y='absHs',data=df_Feb,fit_reg=True, aspect=1.5);\n",
    "plt.ylabel(\"Participant Hurst Parameter\")\n",
    "plt.xlabel(\"Participant Performance\")\n",
    "# plt.title(\"Hurst Parameters regressed on Performance\")\n",
    "slope, intercept, r_value, pv, se = stats.linregress(df_Feb.absHs.values,df_Feb.acr.values)\n",
    "print(slope, pv)"
   ]
  },
  {
   "cell_type": "code",
   "execution_count": null,
   "metadata": {
    "colab": {
     "base_uri": "https://localhost:8080/"
    },
    "id": "1ybdWklhX7ax",
    "outputId": "687f9de7-e464-471c-919e-9b1e1b381ccd"
   },
   "outputs": [
    {
     "data": {
      "text/plain": [
       "-0.7502726716938489"
      ]
     },
     "execution_count": 52,
     "metadata": {
      "tags": []
     },
     "output_type": "execute_result"
    }
   ],
   "source": [
    "slope"
   ]
  },
  {
   "cell_type": "code",
   "execution_count": null,
   "metadata": {
    "colab": {
     "base_uri": "https://localhost:8080/"
    },
    "id": "Y6aokzWDS3te",
    "outputId": "3fc59188-2d67-478e-c9e5-473f230ba554"
   },
   "outputs": [
    {
     "data": {
      "text/plain": [
       "0.19381376240732864"
      ]
     },
     "execution_count": 53,
     "metadata": {
      "tags": []
     },
     "output_type": "execute_result"
    }
   ],
   "source": [
    "se"
   ]
  },
  {
   "cell_type": "code",
   "execution_count": null,
   "metadata": {
    "colab": {
     "base_uri": "https://localhost:8080/"
    },
    "id": "KQgZuO05S6aW",
    "outputId": "3df578a7-3d52-48a2-8599-baaf127d3f23"
   },
   "outputs": [
    {
     "data": {
      "text/plain": [
       "0.0823440884649697"
      ]
     },
     "execution_count": 40,
     "metadata": {
      "tags": []
     },
     "output_type": "execute_result"
    }
   ],
   "source": [
    "r_value * r_value"
   ]
  },
  {
   "cell_type": "code",
   "execution_count": null,
   "metadata": {
    "id": "zoHJRful2jRW"
   },
   "outputs": [],
   "source": []
  }
 ],
 "metadata": {
  "colab": {
   "collapsed_sections": [],
   "machine_shape": "hm",
   "name": "MouseTrackingAnalysis.ipynb",
   "provenance": [],
   "toc_visible": true
  },
  "kernelspec": {
   "display_name": "Python 3",
   "language": "python",
   "name": "python3"
  },
  "language_info": {
   "codemirror_mode": {
    "name": "ipython",
    "version": 3
   },
   "file_extension": ".py",
   "mimetype": "text/x-python",
   "name": "python",
   "nbconvert_exporter": "python",
   "pygments_lexer": "ipython3",
   "version": "3.8.5"
  }
 },
 "nbformat": 4,
 "nbformat_minor": 1
}
